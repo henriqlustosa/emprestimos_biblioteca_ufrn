{
  "nbformat": 4,
  "nbformat_minor": 0,
  "metadata": {
    "colab": {
      "name": "Empréstimos UFRN",
      "provenance": [],
      "authorship_tag": "ABX9TyMFXZD4JbWJq2mgIa2uT6ae",
      "include_colab_link": true
    },
    "kernelspec": {
      "name": "python3",
      "display_name": "Python 3"
    }
  },
  "cells": [
    {
      "cell_type": "markdown",
      "metadata": {
        "id": "view-in-github",
        "colab_type": "text"
      },
      "source": [
        "<a href=\"https://colab.research.google.com/github/vitorbaptista/emprestimos_biblioteca_ufrn/blob/master/analise.ipynb\" target=\"_parent\"><img src=\"https://colab.research.google.com/assets/colab-badge.svg\" alt=\"Open In Colab\"/></a>"
      ]
    },
    {
      "cell_type": "code",
      "metadata": {
        "id": "RQ3x9XugQmgl",
        "colab_type": "code",
        "colab": {
          "base_uri": "https://localhost:8080/",
          "height": 575
        },
        "outputId": "5318261f-c73d-4e4f-b8a7-5dd4eaead815"
      },
      "source": [
        "!pip install datapackage"
      ],
      "execution_count": 10,
      "outputs": [
        {
          "output_type": "stream",
          "text": [
            "Requirement already satisfied: datapackage in /usr/local/lib/python3.6/dist-packages (1.15.0)\n",
            "Requirement already satisfied: jsonschema>=2.5 in /usr/local/lib/python3.6/dist-packages (from datapackage) (2.6.0)\n",
            "Requirement already satisfied: requests>=2.8 in /usr/local/lib/python3.6/dist-packages (from datapackage) (2.23.0)\n",
            "Requirement already satisfied: tabulator>=1.29 in /usr/local/lib/python3.6/dist-packages (from datapackage) (1.52.3)\n",
            "Requirement already satisfied: jsonpointer>=1.10 in /usr/local/lib/python3.6/dist-packages (from datapackage) (2.0)\n",
            "Requirement already satisfied: click>=6.7 in /usr/local/lib/python3.6/dist-packages (from datapackage) (7.1.2)\n",
            "Requirement already satisfied: unicodecsv>=0.14 in /usr/local/lib/python3.6/dist-packages (from datapackage) (0.14.1)\n",
            "Requirement already satisfied: six>=1.10 in /usr/local/lib/python3.6/dist-packages (from datapackage) (1.15.0)\n",
            "Requirement already satisfied: chardet>=3.0 in /usr/local/lib/python3.6/dist-packages (from datapackage) (3.0.4)\n",
            "Requirement already satisfied: tableschema>=1.12.1 in /usr/local/lib/python3.6/dist-packages (from datapackage) (1.19.4)\n",
            "Requirement already satisfied: idna<3,>=2.5 in /usr/local/lib/python3.6/dist-packages (from requests>=2.8->datapackage) (2.10)\n",
            "Requirement already satisfied: certifi>=2017.4.17 in /usr/local/lib/python3.6/dist-packages (from requests>=2.8->datapackage) (2020.6.20)\n",
            "Requirement already satisfied: urllib3!=1.25.0,!=1.25.1,<1.26,>=1.21.1 in /usr/local/lib/python3.6/dist-packages (from requests>=2.8->datapackage) (1.24.3)\n",
            "Requirement already satisfied: jsonlines>=1.1 in /usr/local/lib/python3.6/dist-packages (from tabulator>=1.29->datapackage) (1.2.0)\n",
            "Requirement already satisfied: sqlalchemy>=0.9.6 in /usr/local/lib/python3.6/dist-packages (from tabulator>=1.29->datapackage) (1.3.19)\n",
            "Requirement already satisfied: xlrd>=1.0 in /usr/local/lib/python3.6/dist-packages (from tabulator>=1.29->datapackage) (1.2.0)\n",
            "Requirement already satisfied: ijson>=3.0.3 in /usr/local/lib/python3.6/dist-packages (from tabulator>=1.29->datapackage) (3.1.1)\n",
            "Requirement already satisfied: linear-tsv>=1.0 in /usr/local/lib/python3.6/dist-packages (from tabulator>=1.29->datapackage) (1.1.0)\n",
            "Requirement already satisfied: openpyxl>=2.6 in /usr/local/lib/python3.6/dist-packages (from tabulator>=1.29->datapackage) (3.0.5)\n",
            "Requirement already satisfied: boto3>=1.9 in /usr/local/lib/python3.6/dist-packages (from tabulator>=1.29->datapackage) (1.14.63)\n",
            "Requirement already satisfied: python-dateutil>=2.4 in /usr/local/lib/python3.6/dist-packages (from tableschema>=1.12.1->datapackage) (2.8.1)\n",
            "Requirement already satisfied: rfc3986>=1.1.0 in /usr/local/lib/python3.6/dist-packages (from tableschema>=1.12.1->datapackage) (1.4.0)\n",
            "Requirement already satisfied: isodate>=0.5.4 in /usr/local/lib/python3.6/dist-packages (from tableschema>=1.12.1->datapackage) (0.6.0)\n",
            "Requirement already satisfied: cached-property>=1.5 in /usr/local/lib/python3.6/dist-packages (from tableschema>=1.12.1->datapackage) (1.5.2)\n",
            "Requirement already satisfied: pyrsistent<0.17 in /usr/local/lib/python3.6/dist-packages (from tableschema>=1.12.1->datapackage) (0.16.1)\n",
            "Requirement already satisfied: jdcal in /usr/local/lib/python3.6/dist-packages (from openpyxl>=2.6->tabulator>=1.29->datapackage) (1.4.1)\n",
            "Requirement already satisfied: et-xmlfile in /usr/local/lib/python3.6/dist-packages (from openpyxl>=2.6->tabulator>=1.29->datapackage) (1.0.1)\n",
            "Requirement already satisfied: jmespath<1.0.0,>=0.7.1 in /usr/local/lib/python3.6/dist-packages (from boto3>=1.9->tabulator>=1.29->datapackage) (0.10.0)\n",
            "Requirement already satisfied: s3transfer<0.4.0,>=0.3.0 in /usr/local/lib/python3.6/dist-packages (from boto3>=1.9->tabulator>=1.29->datapackage) (0.3.3)\n",
            "Requirement already satisfied: botocore<1.18.0,>=1.17.63 in /usr/local/lib/python3.6/dist-packages (from boto3>=1.9->tabulator>=1.29->datapackage) (1.17.63)\n",
            "Requirement already satisfied: docutils<0.16,>=0.10 in /usr/local/lib/python3.6/dist-packages (from botocore<1.18.0,>=1.17.63->boto3>=1.9->tabulator>=1.29->datapackage) (0.15.2)\n"
          ],
          "name": "stdout"
        }
      ]
    },
    {
      "cell_type": "code",
      "metadata": {
        "id": "tmbYSOjFS76R",
        "colab_type": "code",
        "colab": {
          "base_uri": "https://localhost:8080/",
          "height": 34
        },
        "outputId": "17299cf0-c8f1-49fc-a74a-cdf03420e637"
      },
      "source": [
        "import datapackage\n",
        "\n",
        "pkg = datapackage.Package('https://raw.githubusercontent.com/vitorbaptista/emprestimos_biblioteca_ufrn/master/datapackage.json')\n",
        "pkg.resource_names"
      ],
      "execution_count": 11,
      "outputs": [
        {
          "output_type": "execute_result",
          "data": {
            "text/plain": [
              "['2019_1', '2018_2']"
            ]
          },
          "metadata": {
            "tags": []
          },
          "execution_count": 11
        }
      ]
    },
    {
      "cell_type": "code",
      "metadata": {
        "id": "HjNvtTjxxkHi",
        "colab_type": "code",
        "colab": {
          "base_uri": "https://localhost:8080/",
          "height": 156
        },
        "outputId": "b1145533-622b-45ce-faee-75aab869048c"
      },
      "source": [
        "pkg.get_resource('2019_1').read(keyed=True)[0:1]"
      ],
      "execution_count": 12,
      "outputs": [
        {
          "output_type": "execute_result",
          "data": {
            "text/plain": [
              "[{'codigo_barras': 'L169931',\n",
              "  'data_devolucao': datetime.date(2019, 1, 25),\n",
              "  'data_emprestimo': datetime.date(2019, 1, 2),\n",
              "  'data_renovacao': None,\n",
              "  'id_emprestimo': 2782809,\n",
              "  'matricula_ou_siape': 20191005377,\n",
              "  'nome_usuario': 'RAIMUNDO VICENTE PEREIRA NETO',\n",
              "  'tipo_vinculo_usuario': 'ALUNO DE PÓS-GRADUAÇÃO'}]"
            ]
          },
          "metadata": {
            "tags": []
          },
          "execution_count": 12
        }
      ]
    },
    {
      "cell_type": "code",
      "metadata": {
        "id": "iDrruQcItd5e",
        "colab_type": "code",
        "colab": {
          "base_uri": "https://localhost:8080/",
          "height": 399
        },
        "outputId": "64d7f123-f142-4c4b-c962-79652a8a0b62"
      },
      "source": [
        "import pandas as pd\n",
        "\n",
        "df = pd.DataFrame(pkg.get_resource('2019_1').read(keyed=True))\n",
        "df.head()"
      ],
      "execution_count": 13,
      "outputs": [
        {
          "output_type": "execute_result",
          "data": {
            "text/html": [
              "<div>\n",
              "<style scoped>\n",
              "    .dataframe tbody tr th:only-of-type {\n",
              "        vertical-align: middle;\n",
              "    }\n",
              "\n",
              "    .dataframe tbody tr th {\n",
              "        vertical-align: top;\n",
              "    }\n",
              "\n",
              "    .dataframe thead th {\n",
              "        text-align: right;\n",
              "    }\n",
              "</style>\n",
              "<table border=\"1\" class=\"dataframe\">\n",
              "  <thead>\n",
              "    <tr style=\"text-align: right;\">\n",
              "      <th></th>\n",
              "      <th>id_emprestimo</th>\n",
              "      <th>codigo_barras</th>\n",
              "      <th>data_renovacao</th>\n",
              "      <th>data_emprestimo</th>\n",
              "      <th>data_devolucao</th>\n",
              "      <th>matricula_ou_siape</th>\n",
              "      <th>nome_usuario</th>\n",
              "      <th>tipo_vinculo_usuario</th>\n",
              "    </tr>\n",
              "  </thead>\n",
              "  <tbody>\n",
              "    <tr>\n",
              "      <th>0</th>\n",
              "      <td>2782809</td>\n",
              "      <td>L169931</td>\n",
              "      <td>None</td>\n",
              "      <td>2019-01-02</td>\n",
              "      <td>2019-01-25</td>\n",
              "      <td>2.019101e+10</td>\n",
              "      <td>RAIMUNDO VICENTE PEREIRA NETO</td>\n",
              "      <td>ALUNO DE PÓS-GRADUAÇÃO</td>\n",
              "    </tr>\n",
              "    <tr>\n",
              "      <th>1</th>\n",
              "      <td>2782810</td>\n",
              "      <td>L099542</td>\n",
              "      <td>None</td>\n",
              "      <td>2019-01-02</td>\n",
              "      <td>2019-01-03</td>\n",
              "      <td>2.019101e+10</td>\n",
              "      <td>RAIMUNDO VICENTE PEREIRA NETO</td>\n",
              "      <td>ALUNO DE PÓS-GRADUAÇÃO</td>\n",
              "    </tr>\n",
              "    <tr>\n",
              "      <th>2</th>\n",
              "      <td>2782811</td>\n",
              "      <td>L199924</td>\n",
              "      <td>None</td>\n",
              "      <td>2019-01-02</td>\n",
              "      <td>2019-01-25</td>\n",
              "      <td>2.019101e+10</td>\n",
              "      <td>RAIMUNDO VICENTE PEREIRA NETO</td>\n",
              "      <td>ALUNO DE PÓS-GRADUAÇÃO</td>\n",
              "    </tr>\n",
              "    <tr>\n",
              "      <th>3</th>\n",
              "      <td>2782812</td>\n",
              "      <td>2010081229</td>\n",
              "      <td>2019-01-17</td>\n",
              "      <td>2019-01-02</td>\n",
              "      <td>2019-01-28</td>\n",
              "      <td>2.018014e+10</td>\n",
              "      <td>DAVID DANIEL LIMA DE SOUZA</td>\n",
              "      <td>ALUNO DE GRADUAÇÃO</td>\n",
              "    </tr>\n",
              "    <tr>\n",
              "      <th>4</th>\n",
              "      <td>2782813</td>\n",
              "      <td>2018022572</td>\n",
              "      <td>2019-01-17</td>\n",
              "      <td>2019-01-02</td>\n",
              "      <td>2019-01-28</td>\n",
              "      <td>2.018014e+10</td>\n",
              "      <td>DAVID DANIEL LIMA DE SOUZA</td>\n",
              "      <td>ALUNO DE GRADUAÇÃO</td>\n",
              "    </tr>\n",
              "  </tbody>\n",
              "</table>\n",
              "</div>"
            ],
            "text/plain": [
              "   id_emprestimo  ...    tipo_vinculo_usuario\n",
              "0        2782809  ...  ALUNO DE PÓS-GRADUAÇÃO\n",
              "1        2782810  ...  ALUNO DE PÓS-GRADUAÇÃO\n",
              "2        2782811  ...  ALUNO DE PÓS-GRADUAÇÃO\n",
              "3        2782812  ...      ALUNO DE GRADUAÇÃO\n",
              "4        2782813  ...      ALUNO DE GRADUAÇÃO\n",
              "\n",
              "[5 rows x 8 columns]"
            ]
          },
          "metadata": {
            "tags": []
          },
          "execution_count": 13
        }
      ]
    },
    {
      "cell_type": "code",
      "metadata": {
        "id": "2oagwu7OwtNj",
        "colab_type": "code",
        "colab": {
          "base_uri": "https://localhost:8080/",
          "height": 208
        },
        "outputId": "fe903080-ab9b-45b9-a453-73146a881043"
      },
      "source": [
        "df.groupby('tipo_vinculo_usuario').id_emprestimo.nunique().sort_values(ascending=True).plot(kind='barh', figsize=(30, 10));"
      ],
      "execution_count": 14,
      "outputs": [
        {
          "output_type": "display_data",
          "data": {
            "image/png": "[encoded data removed]",
            "text/plain": [
              "<Figure size 2160x720 with 1 Axes>"
            ]
          },
          "metadata": {
            "tags": [],
            "needs_background": "light"
          }
        }
      ]
    },
    {
      "cell_type": "code",
      "metadata": {
        "id": "rw6DfLO7cbkA",
        "colab_type": "code",
        "colab": {
          "base_uri": "https://localhost:8080/",
          "height": 233
        },
        "outputId": "44674170-8dbc-4bc0-8537-4fdb93e310d4"
      },
      "source": [
        "ax = df.groupby('matricula_ou_siape').id_emprestimo.nunique().hist(figsize=(30, 10), bins=100)\n",
        "ax.set_title('Número de empréstimos por pessoa');"
      ],
      "execution_count": 15,
      "outputs": [
        {
          "output_type": "display_data",
          "data": {
            "image/png": "[encoded data removed]",
            "text/plain": [
              "<Figure size 2160x720 with 1 Axes>"
            ]
          },
          "metadata": {
            "tags": [],
            "needs_background": "light"
          }
        }
      ]
    },
    {
      "cell_type": "code",
      "metadata": {
        "id": "zUkhTOAZdXL-",
        "colab_type": "code",
        "colab": {
          "base_uri": "https://localhost:8080/",
          "height": 232
        },
        "outputId": "cae917a2-d588-4409-a2d2-1969e5b7b78f"
      },
      "source": [
        "ax = df.groupby('codigo_barras').id_emprestimo.nunique().hist(figsize=(30, 10), bins=25)\n",
        "ax.set_title('Número de empréstimos por livro');"
      ],
      "execution_count": 16,
      "outputs": [
        {
          "output_type": "display_data",
          "data": {
            "image/png": "[encoded data removed]",
            "text/plain": [
              "<Figure size 2160x720 with 1 Axes>"
            ]
          },
          "metadata": {
            "tags": [],
            "needs_background": "light"
          }
        }
      ]
    }
  ]
}